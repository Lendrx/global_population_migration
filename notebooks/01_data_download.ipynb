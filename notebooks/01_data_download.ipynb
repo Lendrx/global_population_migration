{
 "cells": [
  {
   "cell_type": "markdown",
   "metadata": {},
   "source": [
    "##### Dieses Notebook lädt den Datensatz \"Global Population and Migration Dataset\" von Kaggle\n",
    "##### und bereitet ihn für die weitere Analyse vor.\n",
    "##### Dataset: https://www.kaggle.com/datasets/hashimkhanwazir/global-population-and-migration-dataset\n",
    "##### ===============================================\n",
    "##### Last Updated: 15.12.2024"
   ]
  },
  {
   "cell_type": "markdown",
   "metadata": {},
   "source": [
    "### **Benötigte Bibliotheken importieren**"
   ]
  },
  {
   "cell_type": "code",
   "execution_count": 15,
   "metadata": {},
   "outputs": [],
   "source": [
    "import kaggle  # Für den direkten Download von Kaggle\n",
    "import os      # Für Dateisystemoperationen\n",
    "import pandas as pd  # Für spätere Datenanalyse"
   ]
  },
  {
   "cell_type": "markdown",
   "metadata": {},
   "source": [
    "#### Nutzt die **Kaggle API** um den Datensatz direkt herunterzuladen\n",
    "#### Der Parameter 'unzip=True' entpackt die Dateien automatisch"
   ]
  },
  {
   "cell_type": "code",
   "execution_count": 16,
   "metadata": {},
   "outputs": [
    {
     "name": "stdout",
     "output_type": "stream",
     "text": [
      "Starte Download des Datasets...\n",
      "Dataset URL: https://www.kaggle.com/datasets/hashimkhanwazir/global-population-and-migration-dataset\n",
      "Download abgeschlossen!\n"
     ]
    }
   ],
   "source": [
    "print(\"Starte Download des Datasets...\")\n",
    "kaggle.api.dataset_download_files(\n",
    "    'hashimkhanwazir/global-population-and-migration-dataset', \n",
    "    path='../data', \n",
    "    unzip=True\n",
    ")\n",
    "print(\"Download abgeschlossen!\")"
   ]
  },
  {
   "cell_type": "markdown",
   "metadata": {},
   "source": [
    "#### **Listet alle Dateien im data Ordner auf**"
   ]
  },
  {
   "cell_type": "code",
   "execution_count": 17,
   "metadata": {},
   "outputs": [
    {
     "name": "stdout",
     "output_type": "stream",
     "text": [
      "\n",
      "Verfügbare Dateien im data Ordner:\n",
      "- world_pop_mig_186_countries.csv\n"
     ]
    }
   ],
   "source": [
    "files = os.listdir('../data')\n",
    "print(\"\\nVerfügbare Dateien im data Ordner:\")\n",
    "for file in files:\n",
    "    print(f\"- {file}\")"
   ]
  },
  {
   "cell_type": "markdown",
   "metadata": {},
   "source": [
    "#### Überprüft, ob die erwarteten CSV-Dateien vorhanden sind"
   ]
  },
  {
   "cell_type": "code",
   "execution_count": 18,
   "metadata": {},
   "outputs": [
    {
     "name": "stdout",
     "output_type": "stream",
     "text": [
      "\n",
      "Überprüfe die heruntergeladenen Dateien...\n",
      "Anzahl der CSV-Dateien: 1\n",
      "\n",
      "Gefundene CSV-Dateien:\n",
      "- world_pop_mig_186_countries.csv\n"
     ]
    }
   ],
   "source": [
    "print(\"\\nÜberprüfe die heruntergeladenen Dateien...\")\n",
    "csv_files = [f for f in files if f.endswith('.csv')]\n",
    "if csv_files:\n",
    "    print(f\"Anzahl der CSV-Dateien: {len(csv_files)}\")\n",
    "    print(\"\\nGefundene CSV-Dateien:\")\n",
    "    for csv in csv_files:\n",
    "        print(f\"- {csv}\")\n",
    "else:\n",
    "    print(\"SHIT BRO ... : Keine CSV-Dateien gefunden!\")"
   ]
  }
 ],
 "metadata": {
  "kernelspec": {
   "display_name": "venv",
   "language": "python",
   "name": "python3"
  },
  "language_info": {
   "codemirror_mode": {
    "name": "ipython",
    "version": 3
   },
   "file_extension": ".py",
   "mimetype": "text/x-python",
   "name": "python",
   "nbconvert_exporter": "python",
   "pygments_lexer": "ipython3",
   "version": "3.11.8"
  }
 },
 "nbformat": 4,
 "nbformat_minor": 2
}
