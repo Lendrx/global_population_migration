{
 "cells": [
  {
   "cell_type": "markdown",
   "metadata": {},
   "source": [
    "# Explorative Datenanalyse: Globale Bevölkerungsmigration\n",
    "\n",
    "Diese Analyse untersucht Migrationsmuster und Bevölkerungsentwicklungen weltweit.\n",
    "\n",
    "## Inhaltsverzeichnis\n",
    "1. Datenimport und Bereinigung\n",
    "2. Explorative Analyse\n",
    "3. Statistische Tests\n",
    "4. Visualisierungen\n",
    "5. Schlussfolgerungen"
   ]
  },
  {
   "cell_type": "code",
   "execution_count": null,
   "metadata": {},
   "source": [
    "import pandas as pd\n",
    "import numpy as np\n",
    "import matplotlib.pyplot as plt\n",
    "import seaborn as sns\n",
    "\n",
    "# Styling für plots\n",
    "plt.style.use('seaborn')\n",
    "sns.set_palette('Set2')"
   ]
  }
 ],
 "metadata": {
  "kernelspec": {
   "display_name": "Python 3",
   "language": "python",
   "name": "python3"
  }
 }
}