{
 "cells": [
  {
   "cell_type": "markdown",
   "metadata": {},
   "source": [
    "##### Datenverarbeitung des Global Population and Migration Dataset\n",
    "##### Dieses Notebook lädt die heruntergeladenen Daten und bereitet sie für die Analyse auf.\n",
    "##### \n",
    "##### Last Updated: 15.12.2024\n",
    "##### ===============================================\n"
   ]
  },
  {
   "cell_type": "markdown",
   "metadata": {},
   "source": [
    "#### **1. Imports und Datenladen**\n",
    "#### ------------------------"
   ]
  },
  {
   "cell_type": "code",
   "execution_count": 46,
   "metadata": {},
   "outputs": [],
   "source": [
    "import pandas as pd\n",
    "import numpy as np\n",
    "from pathlib import Path\n",
    "import numpy as np"
   ]
  },
  {
   "cell_type": "markdown",
   "metadata": {},
   "source": [
    "##### Daten laden"
   ]
  },
  {
   "cell_type": "code",
   "execution_count": 50,
   "metadata": {},
   "outputs": [
    {
     "name": "stdout",
     "output_type": "stream",
     "text": [
      "Verfügbare Dateien im data-Ordner:\n",
      "- processed_world_pop_mig_186_countries.csv\n",
      "- world_pop_mig_186_countries.csv\n"
     ]
    }
   ],
   "source": [
    "data_path = Path('../data')\n",
    "\n",
    "# Zeige verfügbare Dateien\n",
    "print(\"Verfügbare Dateien im data-Ordner:\")\n",
    "for file in data_path.glob('*.csv'):\n",
    "    print(f\"- {file.name}\")"
   ]
  },
  {
   "cell_type": "markdown",
   "metadata": {},
   "source": [
    "##### Datentypen anpassen"
   ]
  },
  {
   "cell_type": "code",
   "execution_count": 52,
   "metadata": {},
   "outputs": [],
   "source": [
    "df['netMigration'] = df['netMigration'].astype(int)"
   ]
  },
  {
   "cell_type": "markdown",
   "metadata": {},
   "source": [
    "#### **2. Länderbasierte Berechnungen**\n",
    "# ----------------------------"
   ]
  },
  {
   "cell_type": "code",
   "execution_count": 54,
   "metadata": {},
   "outputs": [],
   "source": [
    "# Aggregation nach Ländern\n",
    "country_metrics = df.groupby(by=\"country\").agg({\n",
    "    'population': 'mean',\n",
    "    'netMigration': 'sum',\n",
    "    'population_in_millions': 'mean'\n",
    "}).reset_index()\n",
    "\n",
    "# Top/Bottom Migration\n",
    "top_immigration = country_metrics.nlargest(10, 'netMigration')\n",
    "top_emigration = country_metrics.nsmallest(10, 'netMigration')"
   ]
  },
  {
   "cell_type": "markdown",
   "metadata": {},
   "source": [
    "#### **3. Zeitbasierte Berechnungen**\n",
    "# --------------------------"
   ]
  },
  {
   "cell_type": "code",
   "execution_count": 55,
   "metadata": {},
   "outputs": [],
   "source": [
    "yearly_metrics = df.groupby('year').agg({\n",
    "    'population': 'sum',\n",
    "    'netMigration': 'sum',\n",
    "    'population_in_millions': 'sum'\n",
    "}).reset_index()"
   ]
  },
  {
   "cell_type": "markdown",
   "metadata": {},
   "source": [
    "#### **4. Aktuelle Bevölkerungszahlen (2023)**\n",
    "# ----------------------------------"
   ]
  },
  {
   "cell_type": "code",
   "execution_count": 56,
   "metadata": {},
   "outputs": [],
   "source": [
    "current_population = df[df['year'] == 2023].copy()\n",
    "top_population_countries = current_population.nlargest(10, 'population')"
   ]
  },
  {
   "cell_type": "markdown",
   "metadata": {},
   "source": [
    "#### **5. Migrations-Kategorisierung**\n",
    "# --------------------------"
   ]
  },
  {
   "cell_type": "code",
   "execution_count": 57,
   "metadata": {},
   "outputs": [],
   "source": [
    "migration_categories = pd.cut(df['netMigration'], \n",
    "                            bins=[float('-inf'), -1, 0, float('inf')],\n",
    "                            labels=['Immigration', 'Neutral', 'Emigration'])\n",
    "migration_distribution = migration_categories.value_counts()"
   ]
  },
  {
   "cell_type": "code",
   "execution_count": null,
   "metadata": {},
   "outputs": [],
   "source": [
    "# 6. Regionale Statistiken\n",
    "# ----------------------\n",
    "# Migrations-Statistiken nach Kontinenten/Regionen (falls verfügbar)\n",
    "if 'region' in df.columns:\n",
    "    regional_stats = df.groupby('region').agg({\n",
    "        'netMigration': ['sum', 'mean'],\n",
    "        'population': ['mean', 'max']\n",
    "    }).round(2)\n",
    "\n",
    "# 7. Korrelationsanalyse\n",
    "# --------------------\n",
    "correlation_matrix = df.select_dtypes(include=[np.number]).corr()\n",
    "\n",
    "# 8. Daten speichern\n",
    "# ----------------\n",
    "# Speichere alle berechneten Daten für Visualisierung\n",
    "processed_data = {\n",
    "    'country_metrics': country_metrics,\n",
    "    'top_immigration': top_immigration,\n",
    "    'top_emigration': top_emigration,\n",
    "    'yearly_metrics': yearly_metrics,\n",
    "    'top_population': top_population_countries,\n",
    "    'migration_distribution': migration_distribution,\n",
    "    'correlation_matrix': correlation_matrix\n",
    "}\n",
    "\n",
    "# Speichere die Daten als CSV\n",
    "for name, data in processed_data.items():\n",
    "    if isinstance(data, pd.DataFrame):\n",
    "        data.to_csv(data_path / f'analyzed_{name}.csv', index=False)\n",
    "    elif isinstance(data, pd.Series):\n",
    "        data.to_frame().to_csv(data_path / f'analyzed_{name}.csv')\n",
    "\n",
    "print(\"\\nDatenverarbeitung abgeschlossen! Alle Kennzahlen wurden berechnet und gespeichert.\")\n",
    "\n",
    "# 9. Übersicht der Ergebnisse\n",
    "# -------------------------\n",
    "print(\"\\nÜbersicht der wichtigsten Kennzahlen:\")\n",
    "print(f\"Anzahl untersuchter Länder: {len(country_metrics)}\")\n",
    "print(f\"Untersuchungszeitraum: {yearly_metrics['year'].min()} - {yearly_metrics['year'].max()}\")\n",
    "print(\"\\nTop 3 Immigrationsländer:\")\n",
    "print(top_immigration[['country', 'netMigration']].head(3))\n",
    "print(\"\\nTop 3 Emigrationsländer:\")\n",
    "print(top_emigration[['country', 'netMigration']].head(3))"
   ]
  }
 ],
 "metadata": {
  "kernelspec": {
   "display_name": "venv",
   "language": "python",
   "name": "python3"
  },
  "language_info": {
   "codemirror_mode": {
    "name": "ipython",
    "version": 3
   },
   "file_extension": ".py",
   "mimetype": "text/x-python",
   "name": "python",
   "nbconvert_exporter": "python",
   "pygments_lexer": "ipython3",
   "version": "3.11.8"
  }
 },
 "nbformat": 4,
 "nbformat_minor": 2
}
