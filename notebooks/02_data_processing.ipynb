{
 "cells": [
  {
   "cell_type": "markdown",
   "metadata": {},
   "source": [
    "##### Datenverarbeitung des Global Population and Migration Dataset\n",
    "##### Dieses Notebook lädt die heruntergeladenen Daten und bereitet sie für die Analyse auf.\n",
    "##### \n",
    "##### Last Updated: 15.12.2024\n",
    "##### ===============================================\n"
   ]
  },
  {
   "cell_type": "markdown",
   "metadata": {},
   "source": [
    "#### **1. Imports und Datenladen**\n",
    "#### ------------------------"
   ]
  },
  {
   "cell_type": "code",
   "execution_count": 59,
   "metadata": {},
   "outputs": [],
   "source": [
    "import pandas as pd\n",
    "import numpy as np\n",
    "from pathlib import Path\n",
    "import numpy as np"
   ]
  },
  {
   "cell_type": "markdown",
   "metadata": {},
   "source": [
    "##### Daten laden"
   ]
  },
  {
   "cell_type": "code",
   "execution_count": 60,
   "metadata": {},
   "outputs": [
    {
     "name": "stdout",
     "output_type": "stream",
     "text": [
      "1. Verfügbare Dateien prüfen\n",
      "CSV-Dateien im data-Ordner:\n",
      "- processed_world_pop_mig_186_countries.csv\n",
      "- world_pop_mig_186_countries.csv\n",
      "\n",
      "2. Überblick über die geladenen Daten:\n",
      "Shape des Dataframes: (11904, 5)\n",
      "\n",
      "Spalten im Dataframe:\n",
      "['country', 'year', 'population', 'netMigration', 'population_in_millions']\n",
      "\n",
      "Erste Zeilen der Daten:\n",
      "       country  year  population  netMigration  population_in_millions\n",
      "0  Afghanistan  2023  42239854.0      -65846.0                      42\n",
      "1  Afghanistan  2022  41128771.0      -65846.0                      41\n",
      "2  Afghanistan  2021  40099462.0     -183672.0                      40\n",
      "3  Afghanistan  2020  38972230.0      166821.0                      38\n",
      "4  Afghanistan  2019  37769499.0       -8082.0                      37\n"
     ]
    }
   ],
   "source": [
    "print(\"1. Verfügbare Dateien prüfen\")\n",
    "data_path = Path('../data')\n",
    "\n",
    "print(\"CSV-Dateien im data-Ordner:\")\n",
    "for file in data_path.glob('*.csv'):\n",
    "   print(f\"- {file.name}\")\n",
    "   # Speichere die Daten in df\n",
    "   df = pd.read_csv(file)\n",
    "   \n",
    "print(\"\\n2. Überblick über die geladenen Daten:\")\n",
    "print(f\"Shape des Dataframes: {df.shape}\")\n",
    "print(\"\\nSpalten im Dataframe:\")\n",
    "print(df.columns.tolist())\n",
    "print(\"\\nErste Zeilen der Daten:\")\n",
    "print(df.head())"
   ]
  },
  {
   "cell_type": "markdown",
   "metadata": {},
   "source": [
    "##### Datentypen anpassen"
   ]
  },
  {
   "cell_type": "code",
   "execution_count": 61,
   "metadata": {},
   "outputs": [],
   "source": [
    "df['netMigration'] = df['netMigration'].astype(int)"
   ]
  },
  {
   "cell_type": "markdown",
   "metadata": {},
   "source": [
    "#### **2. Länderbasierte Berechnungen**\n",
    "# ----------------------------"
   ]
  },
  {
   "cell_type": "code",
   "execution_count": 62,
   "metadata": {},
   "outputs": [],
   "source": [
    "# Aggregation nach Ländern\n",
    "country_metrics = df.groupby(by=\"country\").agg({\n",
    "    'population': 'mean',\n",
    "    'netMigration': 'sum',\n",
    "    'population_in_millions': 'mean'\n",
    "}).reset_index()\n",
    "\n",
    "# Top/Bottom Migration\n",
    "top_immigration = country_metrics.nlargest(10, 'netMigration')\n",
    "top_emigration = country_metrics.nsmallest(10, 'netMigration')"
   ]
  },
  {
   "cell_type": "markdown",
   "metadata": {},
   "source": [
    "#### **3. Zeitbasierte Berechnungen**\n",
    "# --------------------------"
   ]
  },
  {
   "cell_type": "code",
   "execution_count": 63,
   "metadata": {},
   "outputs": [],
   "source": [
    "yearly_metrics = df.groupby('year').agg({\n",
    "    'population': 'sum',\n",
    "    'netMigration': 'sum',\n",
    "    'population_in_millions': 'sum'\n",
    "}).reset_index()"
   ]
  },
  {
   "cell_type": "markdown",
   "metadata": {},
   "source": [
    "#### **4. Aktuelle Bevölkerungszahlen (2023)**\n",
    "# ----------------------------------"
   ]
  },
  {
   "cell_type": "code",
   "execution_count": 64,
   "metadata": {},
   "outputs": [],
   "source": [
    "current_population = df[df['year'] == 2023].copy()\n",
    "top_population_countries = current_population.nlargest(10, 'population')"
   ]
  },
  {
   "cell_type": "markdown",
   "metadata": {},
   "source": [
    "#### **5. Migrations-Kategorisierung**\n",
    "# --------------------------"
   ]
  },
  {
   "cell_type": "code",
   "execution_count": 65,
   "metadata": {},
   "outputs": [],
   "source": [
    "migration_categories = pd.cut(df['netMigration'], \n",
    "                            bins=[float('-inf'), -1, 0, float('inf')],\n",
    "                            labels=['Immigration', 'Neutral', 'Emigration'])\n",
    "migration_distribution = migration_categories.value_counts()"
   ]
  },
  {
   "cell_type": "markdown",
   "metadata": {},
   "source": [
    "#### **6. Regionale Statistiken**\n",
    "# ----------------------\n",
    "##### Migrations-Statistiken nach Kontinenten/Regionen (falls verfügbar)"
   ]
  },
  {
   "cell_type": "code",
   "execution_count": 67,
   "metadata": {},
   "outputs": [],
   "source": [
    "if 'region' in df.columns:\n",
    "    regional_stats = df.groupby('region').agg({\n",
    "        'netMigration': ['sum', 'mean'],\n",
    "        'population': ['mean', 'max']\n",
    "    }).round(2)"
   ]
  },
  {
   "cell_type": "markdown",
   "metadata": {},
   "source": [
    "#### **7. Korrelationsanalyse**\n",
    "# --------------------"
   ]
  },
  {
   "cell_type": "code",
   "execution_count": 68,
   "metadata": {},
   "outputs": [],
   "source": [
    "correlation_matrix = df.select_dtypes(include=[np.number]).corr()"
   ]
  },
  {
   "cell_type": "markdown",
   "metadata": {},
   "source": [
    "#### **8. Daten speichern**\n",
    "# ----------------\n",
    "##### Speichere alle berechneten Daten für Visualisierung"
   ]
  },
  {
   "cell_type": "code",
   "execution_count": 69,
   "metadata": {},
   "outputs": [],
   "source": [
    "processed_data = {\n",
    "    'country_metrics': country_metrics,\n",
    "    'top_immigration': top_immigration,\n",
    "    'top_emigration': top_emigration,\n",
    "    'yearly_metrics': yearly_metrics,\n",
    "    'top_population': top_population_countries,\n",
    "    'migration_distribution': migration_distribution,\n",
    "    'correlation_matrix': correlation_matrix\n",
    "}"
   ]
  },
  {
   "cell_type": "markdown",
   "metadata": {},
   "source": [
    "##### Speichere die Daten als CSV"
   ]
  },
  {
   "cell_type": "code",
   "execution_count": 70,
   "metadata": {},
   "outputs": [
    {
     "name": "stdout",
     "output_type": "stream",
     "text": [
      "\n",
      "Datenverarbeitung abgeschlossen! Alle Kennzahlen wurden berechnet und gespeichert.\n"
     ]
    }
   ],
   "source": [
    "for name, data in processed_data.items():\n",
    "    if isinstance(data, pd.DataFrame):\n",
    "        data.to_csv(data_path / f'analyzed_{name}.csv', index=False)\n",
    "    elif isinstance(data, pd.Series):\n",
    "        data.to_frame().to_csv(data_path / f'analyzed_{name}.csv')\n",
    "\n",
    "print(\"\\nDatenverarbeitung abgeschlossen! Alle Kennzahlen wurden berechnet und gespeichert.\")"
   ]
  },
  {
   "cell_type": "markdown",
   "metadata": {},
   "source": [
    "##### **9. Übersicht der Ergebnisse**\n",
    "# -------------------------"
   ]
  },
  {
   "cell_type": "code",
   "execution_count": 71,
   "metadata": {},
   "outputs": [
    {
     "name": "stdout",
     "output_type": "stream",
     "text": [
      "\n",
      "Übersicht der wichtigsten Kennzahlen:\n",
      "Anzahl untersuchter Länder: 186\n",
      "Untersuchungszeitraum: 1960 - 2023\n",
      "\n",
      "Top 3 Immigrationsländer:\n",
      "                country  netMigration\n",
      "179       United States      67104784\n",
      "63              Germany      13307249\n",
      "141  Russian Federation      12488328\n",
      "\n",
      "Top 3 Emigrationsländer:\n",
      "        country  netMigration\n",
      "14   Bangladesh     -20504716\n",
      "129    Pakistan     -18487914\n",
      "37        China     -17070233\n"
     ]
    }
   ],
   "source": [
    "print(\"\\nÜbersicht der wichtigsten Kennzahlen:\")\n",
    "print(f\"Anzahl untersuchter Länder: {len(country_metrics)}\")\n",
    "print(f\"Untersuchungszeitraum: {yearly_metrics['year'].min()} - {yearly_metrics['year'].max()}\")\n",
    "print(\"\\nTop 3 Immigrationsländer:\")\n",
    "print(top_immigration[['country', 'netMigration']].head(3))\n",
    "print(\"\\nTop 3 Emigrationsländer:\")\n",
    "print(top_emigration[['country', 'netMigration']].head(3))"
   ]
  }
 ],
 "metadata": {
  "kernelspec": {
   "display_name": "venv",
   "language": "python",
   "name": "python3"
  },
  "language_info": {
   "codemirror_mode": {
    "name": "ipython",
    "version": 3
   },
   "file_extension": ".py",
   "mimetype": "text/x-python",
   "name": "python",
   "nbconvert_exporter": "python",
   "pygments_lexer": "ipython3",
   "version": "3.11.8"
  }
 },
 "nbformat": 4,
 "nbformat_minor": 2
}
